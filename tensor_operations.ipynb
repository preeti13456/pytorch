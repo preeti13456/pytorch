{
  "nbformat": 4,
  "nbformat_minor": 0,
  "metadata": {
    "kernelspec": {
      "display_name": "Python 3",
      "language": "python",
      "name": "python3"
    },
    "language_info": {
      "codemirror_mode": {
        "name": "ipython",
        "version": 3
      },
      "file_extension": ".py",
      "mimetype": "text/x-python",
      "name": "python",
      "nbconvert_exporter": "python",
      "pygments_lexer": "ipython3",
      "version": "3.7.6"
    },
    "colab": {
      "name": "tensor-operations.ipynb",
      "provenance": [],
      "collapsed_sections": [],
      "include_colab_link": true
    }
  },
  "cells": [
    {
      "cell_type": "markdown",
      "metadata": {
        "id": "view-in-github",
        "colab_type": "text"
      },
      "source": [
        "<a href=\"https://colab.research.google.com/github/preeti13456/pytorch/blob/master/tensor_operations.ipynb\" target=\"_parent\"><img src=\"https://colab.research.google.com/assets/colab-badge.svg\" alt=\"Open In Colab\"/></a>"
      ]
    },
    {
      "cell_type": "markdown",
      "metadata": {
        "id": "T4_wEn74u1U8",
        "colab_type": "text"
      },
      "source": [
        "# Here we are using pytorch library with torch.tensor() functionalities such that it will help to take all the inputs vectors, matrices, 3d-arrays, numpy arrays. And help to apply mathematics on it and convert it in tensor form .\n",
        "\n",
        "### Functions we can incorporate in torch.tensor() matrix.\n",
        "\n",
        "An short introduction about PyTorch and about the chosen functions. \n",
        "- function 1 : math functions like torch.rand(), torch.abs_() and torch.allclose\n",
        "- function 2 : torch.as_strided (layout functions)\n",
        "- function 3 : In these the functions deals with the individual elements instead of clusters.\n",
        "- function 4 : It deals with subtensors such as storage_offset() function.\n",
        "- function 5 : symeifg(eigenvalue functions)"
      ]
    },
    {
      "cell_type": "code",
      "metadata": {
        "id": "lVt-WGAgu1U9",
        "colab_type": "code",
        "colab": {}
      },
      "source": [
        "# Import torch and other required modules\n",
        "import torch\n",
        "import os\n",
        "import numpy as np"
      ],
      "execution_count": 0,
      "outputs": []
    },
    {
      "cell_type": "markdown",
      "metadata": {
        "id": "TjmCWdlEu1VC",
        "colab_type": "text"
      },
      "source": [
        "## Function 1 - Some of the math functions we used here to play with the tensor inputs.\n",
        "\n",
        "# 1. tensor = torch.rand ((no.of rows, no. of columns)),\n",
        "# 2. torch.abs_(input, alpha=1)\n",
        "# 3.  torch.allclose(input, other, rtol=1e-05, atol=1e-08, equal_nan=False)"
      ]
    },
    {
      "cell_type": "code",
      "metadata": {
        "id": "qEfa9qHsu1VD",
        "colab_type": "code",
        "outputId": "6d15e541-30ef-40b6-df5a-b9bdb4510af8",
        "colab": {
          "base_uri": "https://localhost:8080/",
          "height": 50
        }
      },
      "source": [
        "# Example 1 - working (change this)\n",
        "\n",
        "#x = np.array([[1, 2], [3, 4.]])\n",
        "#y = torch.from_numpy(x)\n",
        "tensor=torch.rand((2,3))\n",
        "z = tensor.new_tensor([[9,0,-7.],[5,7,.0]], requires_grad=False)\n",
        "z.shape\n",
        "z.permute([-2,1])\n"
      ],
      "execution_count": 0,
      "outputs": [
        {
          "output_type": "execute_result",
          "data": {
            "text/plain": [
              "tensor([[ 9.,  0., -7.],\n",
              "        [ 5.,  7.,  0.]])"
            ]
          },
          "metadata": {
            "tags": []
          },
          "execution_count": 2
        }
      ]
    },
    {
      "cell_type": "markdown",
      "metadata": {
        "id": "h4qNFx9Cu1VK",
        "colab_type": "text"
      },
      "source": [
        "First here we are using rand() to have random items in the corresponding dimensions  and store it in tensor . Then creating a new tensor by by function new_tensor() making gradiend_descent value as false. And we are multiplying it with tensor such that current tensor z will take dimension in tensor. We can check the length of tensor z with .shape method. And can also permute some indices with .permute."
      ]
    },
    {
      "cell_type": "code",
      "metadata": {
        "id": "igEwfj6ju1VL",
        "colab_type": "code",
        "outputId": "a7912a5f-eccb-4ffc-905e-dc0966f382ab",
        "colab": {
          "base_uri": "https://localhost:8080/",
          "height": 50
        }
      },
      "source": [
        "# Example 2 - working\n",
        "z.abs_()\n",
        "z.add_(2,alpha=1)"
      ],
      "execution_count": 0,
      "outputs": [
        {
          "output_type": "execute_result",
          "data": {
            "text/plain": [
              "tensor([[11.,  2.,  9.],\n",
              "        [ 7.,  9.,  2.]])"
            ]
          },
          "metadata": {
            "tags": []
          },
          "execution_count": 3
        }
      ]
    },
    {
      "cell_type": "markdown",
      "metadata": {
        "id": "Io4201MWu1VO",
        "colab_type": "text"
      },
      "source": [
        "Here we are using abs_() function to convert all the tensor value positive , then here we are using .add_ to add input number to each item of tensor with alpha value to be 1."
      ]
    },
    {
      "cell_type": "code",
      "metadata": {
        "id": "_oSETsQTu1VP",
        "colab_type": "code",
        "outputId": "e0d2d43a-98f2-41cb-c50c-136eaf69c0e0",
        "colab": {
          "base_uri": "https://localhost:8080/",
          "height": 50
        }
      },
      "source": [
        "\n",
        "# Example 3 - breaking (to illustrate when it breaks)\n",
        "tensor = torch.tensor([[1, 2,-1.], [3, 4, 5]])\n",
        "tensor2 = torch.exp(tensor).sum()\n",
        "w = torch.rand(2,3)\n",
        "w.allclose(tensor, rtol=1e-05, atol=1e-08, equal_nan=False)\n",
        "w.argsort()\n",
        "w.asin_()\n"
      ],
      "execution_count": 0,
      "outputs": [
        {
          "output_type": "execute_result",
          "data": {
            "text/plain": [
              "tensor([[0.4196, 0.4808, 0.9494],\n",
              "        [0.0830, 0.3258, 0.5885]])"
            ]
          },
          "metadata": {
            "tags": []
          },
          "execution_count": 5
        }
      ]
    },
    {
      "cell_type": "markdown",
      "metadata": {
        "id": "LjjS87ZMu1VS",
        "colab_type": "text"
      },
      "source": [
        "In allclose function all of this represents:\n",
        "input (Tensor) – first tensor to compare\n",
        "\n",
        "other (Tensor) – second tensor to compare\n",
        "\n",
        "atol (float, optional) – absolute tolerance. Default: 1e-08\n",
        "\n",
        "rtol (float, optional) – relative tolerance. Default: 1e-05\n",
        "\n",
        "equal_nan (bool, optional) – if True, then two NaN s will be considered equal. Default: False\n",
        "\n",
        "argsort function is used to output all the elements in tensors in sorted order.\n",
        "And converting the output to asin_ will  provides support for the inverse sine function in PyTorch. It expects the input to be in the range [-1, 1] and gives the output in radian form. It returns nan if the input does not lie in the range [-1, 1]. The input type is tensor and if the input contains more than one element, element-wise inverse sine is computed."
      ]
    },
    {
      "cell_type": "markdown",
      "metadata": {
        "id": "gJwNsfr8u1VS",
        "colab_type": "text"
      },
      "source": [
        "Closing comments about when to use this function"
      ]
    },
    {
      "cell_type": "markdown",
      "metadata": {
        "id": "fzgKL6ROu1VT",
        "colab_type": "text"
      },
      "source": [
        "## Function 2 - 1.torch.as_strided , 2.torch.bincount, 3 . torch.diag_embed\n",
        "1. In torch.as_strided function it will Create a view of an existing torch.Tensor input with specified size, stride and storage_offset.\n",
        "2. In bincount function each tensor value have some weight associated with it such that input will contain the range of tensor and weigt means how far te tensor will be that's why last element is the dimension associated with weights as a tensor input.\n",
        "3. In diag_embed in the tensor the inputs will be added along the diagonal only.\n"
      ]
    },
    {
      "cell_type": "code",
      "metadata": {
        "id": "nn-mwAByu1VU",
        "colab_type": "code",
        "outputId": "6ac96089-7df4-4e78-c637-a513337a3069",
        "colab": {
          "base_uri": "https://localhost:8080/",
          "height": 50
        }
      },
      "source": [
        "# Example 1 - working\n",
        "w.as_strided((3,1),(2,2), storage_offset=0)\n",
        "t = torch.tensor([[9,0,0],[-9,-1.,-4],[0,-9,-8]])\n",
        "#w.baddbmm_(t,t, beta=1, alpha=1) \n",
        "w.bernoulli_(p=0.5, generator=None) "
      ],
      "execution_count": 0,
      "outputs": [
        {
          "output_type": "execute_result",
          "data": {
            "text/plain": [
              "tensor([[1., 1., 1.],\n",
              "        [0., 1., 0.]])"
            ]
          },
          "metadata": {
            "tags": []
          },
          "execution_count": 6
        }
      ]
    },
    {
      "cell_type": "markdown",
      "metadata": {
        "id": "usk0qBfaTN1C",
        "colab_type": "text"
      },
      "source": [
        "Here bernoulli_() function will Fills each location of self with an independent sample from Bernoulli(p) . self can have integral dtype."
      ]
    },
    {
      "cell_type": "code",
      "metadata": {
        "id": "KjBKhtYEu1Va",
        "colab_type": "code",
        "outputId": "01b9f942-249f-41eb-a412-890d63f9c1c0",
        "colab": {
          "base_uri": "https://localhost:8080/",
          "height": 34
        }
      },
      "source": [
        "# Example 2 - working\n",
        "torch.bincount(weights=torch.tensor([2]),input=torch.tensor([11]) ,minlength=1)"
      ],
      "execution_count": 0,
      "outputs": [
        {
          "output_type": "execute_result",
          "data": {
            "text/plain": [
              "tensor([0., 0., 0., 0., 0., 0., 0., 0., 0., 0., 0., 2.], dtype=torch.float64)"
            ]
          },
          "metadata": {
            "tags": []
          },
          "execution_count": 7
        }
      ]
    },
    {
      "cell_type": "markdown",
      "metadata": {
        "id": "TfUd3RrFu1Vd",
        "colab_type": "text"
      },
      "source": [
        "Here the function bincount() take two tensors one would be the input which is a tensor tells the range of input values and weights which tells how much max value of the tensor and minlength tells that only 1-d tensor input is to be taken."
      ]
    },
    {
      "cell_type": "code",
      "metadata": {
        "id": "sLfs_HMZu1Ve",
        "colab_type": "code",
        "outputId": "228e7f0e-3a9d-4c65-bbaf-b2a516cf5cc7",
        "colab": {
          "base_uri": "https://localhost:8080/",
          "height": 202
        }
      },
      "source": [
        "# Example 3 - breaking (to illustrate when it breaks)\n",
        "#torch.cholesky_solve(input=torch.tensor([[5,6],[8,9]]),input2=torch.tensor([[3,8],[1,8]]),upper=False)\n",
        "torch.diag_embed(t,offset=0, dim1=-2, dim2=-1)"
      ],
      "execution_count": 0,
      "outputs": [
        {
          "output_type": "execute_result",
          "data": {
            "text/plain": [
              "tensor([[[ 9.,  0.,  0.],\n",
              "         [ 0.,  0.,  0.],\n",
              "         [ 0.,  0.,  0.]],\n",
              "\n",
              "        [[-9.,  0.,  0.],\n",
              "         [ 0., -1.,  0.],\n",
              "         [ 0.,  0., -4.]],\n",
              "\n",
              "        [[ 0.,  0.,  0.],\n",
              "         [ 0., -9.,  0.],\n",
              "         [ 0.,  0., -8.]]])"
            ]
          },
          "metadata": {
            "tags": []
          },
          "execution_count": 8
        }
      ]
    },
    {
      "cell_type": "markdown",
      "metadata": {
        "id": "vpwphpBru1Vi",
        "colab_type": "text"
      },
      "source": [
        "Makes a tensor whose diagonals of certain 2D planes (determined by dim1 and dim2) are filled by input. To encourage making bunched corner to corner frameworks, the 2D planes shaped by the last two components of the returned tensor are picked as a matter of course. \n",
        "\n",
        "The contention offset controls which diagonal to consider: \n",
        "\n",
        "Whenever offset = 0, it is the principle diagonal. \n",
        "\n",
        "Whenever offset > 0, it is over the principle diagonal. \n",
        "\n",
        "Whenever offset < 0, it is beneath the principle corner to corner. \n",
        "\n",
        "The size of the new grid will be determined to make the predetermined diagonal of the size of the last information measurement. Note that for balance other than 00 , the request for dim1 and dim2 matters. Trading them is identical to changing the indication of offset."
      ]
    },
    {
      "cell_type": "markdown",
      "metadata": {
        "id": "boUihGh4u1Vj",
        "colab_type": "text"
      },
      "source": [
        "Closing comments about when to use this function"
      ]
    },
    {
      "cell_type": "markdown",
      "metadata": {
        "id": "zV_WHyZju1Vk",
        "colab_type": "text"
      },
      "source": [
        "## Function 3 - 1. torch.erfinv, 2. torch.spilt() 3. torch.sparse_mask\n",
        "\n",
        "erfinv will deal with inverse error function of input element.\n",
        "As the name suggest .split function will split the function into chunks and then apply its functionality on them.\n",
        "sparse_mask take input value and convert it along with the mask input into list.\n"
      ]
    },
    {
      "cell_type": "code",
      "metadata": {
        "id": "EsJWrMZ-u1Vk",
        "colab_type": "code",
        "outputId": "d46e97a8-b290-45ae-a827-3ac12fd2520d",
        "colab": {
          "base_uri": "https://localhost:8080/",
          "height": 67
        }
      },
      "source": [
        "# Example 1 - working\n",
        "torch.erfinv(t) "
      ],
      "execution_count": 0,
      "outputs": [
        {
          "output_type": "execute_result",
          "data": {
            "text/plain": [
              "tensor([[nan, 0., 0.],\n",
              "        [nan, -inf, nan],\n",
              "        [0., nan, nan]])"
            ]
          },
          "metadata": {
            "tags": []
          },
          "execution_count": 9
        }
      ]
    },
    {
      "cell_type": "markdown",
      "metadata": {
        "id": "9Dm6O2Qru1Vo",
        "colab_type": "text"
      },
      "source": [
        "torch.erfinv(input, out=None) → Tensor\n",
        "Computes the inverse error function of each element of input. The inverse error function is defined in the range (-1, 1)(−1,1) \n",
        "\n"
      ]
    },
    {
      "cell_type": "code",
      "metadata": {
        "id": "9vTTq2qfu1Vq",
        "colab_type": "code",
        "outputId": "236788d4-0c70-41f5-d7f4-309b652772d1",
        "colab": {
          "base_uri": "https://localhost:8080/",
          "height": 50
        }
      },
      "source": [
        "# Example 2 - working\n",
        "#torch.index_fill(t,w,2,dim=1) \n",
        "#torch.scatter_add(dim=1, index=t, src=w) \n",
        "torch.split(t,split_size_or_sections=2,dim=0)"
      ],
      "execution_count": 0,
      "outputs": [
        {
          "output_type": "execute_result",
          "data": {
            "text/plain": [
              "(tensor([[ 9.,  0.,  0.],\n",
              "         [-9., -1., -4.]]), tensor([[ 0., -9., -8.]]))"
            ]
          },
          "metadata": {
            "tags": []
          },
          "execution_count": 10
        }
      ]
    },
    {
      "cell_type": "markdown",
      "metadata": {
        "id": "4oSUOCp5u1Vs",
        "colab_type": "text"
      },
      "source": [
        "Parts the tensor into chunks. Each chunks is a perspective on the first tensor. \n",
        "\n",
        "On the off chance that split_size_or_sections is a whole number sort, at that point tensor will be part into similarly measured pieces (if conceivable). Last piece will be smaller  if the tensor size along the given measurement dimensions isn't distinguishable by split_size. \n",
        "\n",
        "On the other hand that split_size_or_sections is a rundown, at that point tensor will be part into len(split_size_or_sections) chunks with sizes in dimensions as indicated by split_size_or_sections"
      ]
    },
    {
      "cell_type": "code",
      "metadata": {
        "id": "OVyhp_52u1Vt",
        "colab_type": "code",
        "outputId": "e133ba22-3359-4746-90b9-cb7ce1902ede",
        "colab": {
          "base_uri": "https://localhost:8080/",
          "height": 302
        }
      },
      "source": [
        "# Example 3 - breaking (to illustrate when it breaks)\n",
        "nnz = 5\n",
        "dims = [5, 5,2,2]\n",
        "I = torch.cat([torch.randint(0, dims[0], size=(nnz,)),\n",
        "                   torch.randint(0, dims[1], size=(nnz,))], 0).reshape(2, nnz)\n",
        "V = torch.randn(nnz, dims[2], dims[3])\n",
        "size = torch.Size(dims)\n",
        "S = torch.sparse_coo_tensor(I,V,size).coalesce()\n",
        "D = torch.randn(dims)\n",
        "D.sparse_mask(S)"
      ],
      "execution_count": 0,
      "outputs": [
        {
          "output_type": "execute_result",
          "data": {
            "text/plain": [
              "tensor(indices=tensor([[0, 2, 3, 4, 4],\n",
              "                       [1, 4, 3, 0, 4]]),\n",
              "       values=tensor([[[-0.8894,  0.4687],\n",
              "                       [ 0.2962,  0.2355]],\n",
              "\n",
              "                      [[ 0.7393,  0.1254],\n",
              "                       [-0.6831,  1.1992]],\n",
              "\n",
              "                      [[-1.3271,  0.6146],\n",
              "                       [ 1.5161,  0.5639]],\n",
              "\n",
              "                      [[-0.2580, -0.2889],\n",
              "                       [-0.0432,  1.5647]],\n",
              "\n",
              "                      [[ 1.4115,  2.6030],\n",
              "                       [ 0.2458,  0.0589]]]),\n",
              "       size=(5, 5, 2, 2), nnz=5, layout=torch.sparse_coo)"
            ]
          },
          "metadata": {
            "tags": []
          },
          "execution_count": 11
        }
      ]
    },
    {
      "cell_type": "markdown",
      "metadata": {
        "id": "f0DNoJR_u1Vw",
        "colab_type": "text"
      },
      "source": [
        "Returns another SparseTensor with values from Tensor info iltered by indices of mask and values are ignored. input and mask must have the same shape. \n",
        "\n",
        "Parameters \n",
        "\n",
        "input (Tensor) – an info Tensor \n",
        "\n",
        "cover (SparseTensor) – a SparseTensor which we channel input dependent on its lists"
      ]
    },
    {
      "cell_type": "markdown",
      "metadata": {
        "id": "3fhL7745u1Vx",
        "colab_type": "text"
      },
      "source": [
        "Closing comments about when to use this function"
      ]
    },
    {
      "cell_type": "markdown",
      "metadata": {
        "id": "bScJ4HCuu1Vx",
        "colab_type": "text"
      },
      "source": [
        "## Function 4 - \n",
        "\n",
        "1. storage_offset() : It deals with the subtensors.\n",
        "2. stride : It deals with the dimensions present as agruments.\n",
        "3. sum : It will sum up the elements in the matrix."
      ]
    },
    {
      "cell_type": "code",
      "metadata": {
        "id": "y9Vfl_T1u1Vy",
        "colab_type": "code",
        "outputId": "d8235dbd-5439-4df3-d8dd-77f9009063be",
        "colab": {
          "base_uri": "https://localhost:8080/",
          "height": 34
        }
      },
      "source": [
        "# Example 1 - working\n",
        "#torch.stft(n_fft=t,hop_length=None, win_length=None, window=None, center=True, pad_mode='reflect', normalized=False, onesided=True)\n",
        "t.storage_offset()"
      ],
      "execution_count": 0,
      "outputs": [
        {
          "output_type": "execute_result",
          "data": {
            "text/plain": [
              "0"
            ]
          },
          "metadata": {
            "tags": []
          },
          "execution_count": 12
        }
      ]
    },
    {
      "cell_type": "markdown",
      "metadata": {
        "id": "6GGS8vDYu1V2",
        "colab_type": "text"
      },
      "source": [
        "Since here there is no self argument calling in function so the offset for tensor t will be 0."
      ]
    },
    {
      "cell_type": "code",
      "metadata": {
        "id": "CQj315axu1V2",
        "colab_type": "code",
        "outputId": "1bd9788a-2aed-4381-bf19-3c3e66f7d587",
        "colab": {
          "base_uri": "https://localhost:8080/",
          "height": 34
        }
      },
      "source": [
        "# Example 2 - working\n",
        "t.stride()"
      ],
      "execution_count": 0,
      "outputs": [
        {
          "output_type": "execute_result",
          "data": {
            "text/plain": [
              "(3, 1)"
            ]
          },
          "metadata": {
            "tags": []
          },
          "execution_count": 13
        }
      ]
    },
    {
      "cell_type": "markdown",
      "metadata": {
        "id": "okJwlONfu1V6",
        "colab_type": "text"
      },
      "source": [
        "stride is when one value jumps to the other . It mainly takes dimensions as argument in tensor form such that for each value we returned the dimension of tensor and return nothing if no argument is passed ."
      ]
    },
    {
      "cell_type": "code",
      "metadata": {
        "id": "QWApsEDRu1V7",
        "colab_type": "code",
        "outputId": "cabcfa89-0111-4cec-8c19-ebf023fc9eaa",
        "colab": {
          "base_uri": "https://localhost:8080/",
          "height": 34
        }
      },
      "source": [
        "# Example 3 - breaking (to illustrate when it breaks)\n",
        "torch.sum(t,dtype=None)"
      ],
      "execution_count": 0,
      "outputs": [
        {
          "output_type": "execute_result",
          "data": {
            "text/plain": [
              "tensor(-22.)"
            ]
          },
          "metadata": {
            "tags": []
          },
          "execution_count": 14
        }
      ]
    },
    {
      "cell_type": "markdown",
      "metadata": {
        "id": "QzuD0A1_u1WA",
        "colab_type": "text"
      },
      "source": [
        "Here sum function is adding all the tensors elements and giving us the out since in tensor all the element in matrix converted into float so it will ignore the different dtype elementsonly the total no. of elements in dimenional array should be same."
      ]
    },
    {
      "cell_type": "markdown",
      "metadata": {
        "id": "AKrJwMS5u1WB",
        "colab_type": "text"
      },
      "source": [
        "Closing comments about when to use this function"
      ]
    },
    {
      "cell_type": "markdown",
      "metadata": {
        "id": "9KQPGBxQu1WB",
        "colab_type": "text"
      },
      "source": [
        "## Function 5 - Here we are using functions taking eigen value and eigenvectors\n",
        "\n",
        "Basically here the concept of upper triangular matrix is applied on the vector."
      ]
    },
    {
      "cell_type": "code",
      "metadata": {
        "id": "GaQbf4Y0u1WC",
        "colab_type": "code",
        "outputId": "e64c70ff-f3aa-49d4-de9c-d8d3a4dbd6b2",
        "colab": {
          "base_uri": "https://localhost:8080/",
          "height": 34
        }
      },
      "source": [
        "# Example 1 - working\n",
        "torch.symeig(t,eigenvectors=False, upper=True)"
      ],
      "execution_count": 0,
      "outputs": [
        {
          "output_type": "execute_result",
          "data": {
            "text/plain": [
              "torch.return_types.symeig(eigenvalues=tensor([-9.8151,  0.8151,  9.0000]), eigenvectors=tensor([]))"
            ]
          },
          "metadata": {
            "tags": []
          },
          "execution_count": 16
        }
      ]
    },
    {
      "cell_type": "markdown",
      "metadata": {
        "id": "3TFYBhi-u1WF",
        "colab_type": "text"
      },
      "source": [
        "This function will take the concept of upper triangular matrix such that it will be used to calculate the eigen values and eigen vectors . This capacityreturns eigenvalues and eigenvectors of a genuine symmetric grid input or a cluster of genuine symmetric networks, spoke to by a namedtuple (eigenvalues, eigenvectors). \n",
        "\n",
        "This capacity ascertains all eigenvalues (and vectors) of info to such an extent that \\text{input} = V \\text{diag}(e) V^Tinput=Vdiag(e)V \n",
        "\n",
        "\n",
        "The boolean contention eigenvectors characterizes calculation of both eigenvectors and eigenvalues or eigenvalues as it were. \n",
        "\n",
        "On the off chance that it is False, just eigenvalues are figured. On the off chance that it is True, the two eigenvalues and eigenvectors are figured. \n",
        "\n",
        "Since the information network input should be symmetric, just the upper triangular segment is utilized naturally. \n",
        "\n",
        "In the event that upper is False, at that point lower triangular segment is utilized."
      ]
    },
    {
      "cell_type": "code",
      "metadata": {
        "id": "VDzIoUfYu1WG",
        "colab_type": "code",
        "outputId": "c1db6251-e8ee-41d8-b163-494d71cdc319",
        "colab": {
          "base_uri": "https://localhost:8080/",
          "height": 67
        }
      },
      "source": [
        "# Example 2 - working\n",
        "torch.symeig(t, eigenvectors=True)"
      ],
      "execution_count": 0,
      "outputs": [
        {
          "output_type": "execute_result",
          "data": {
            "text/plain": [
              "torch.return_types.symeig(eigenvalues=tensor([-9.8151,  0.8151,  9.0000]), eigenvectors=tensor([[ 0.0000,  0.0000,  1.0000],\n",
              "        [ 0.4132, -0.9106,  0.0000],\n",
              "        [ 0.9106,  0.4132,  0.0000]]))"
            ]
          },
          "metadata": {
            "tags": []
          },
          "execution_count": 17
        }
      ]
    },
    {
      "cell_type": "markdown",
      "metadata": {
        "id": "9GL-StxPu1WJ",
        "colab_type": "text"
      },
      "source": [
        "It will be same as eigen values but now since eigenvectors = True it will print both eigenvalues and eigenvectors."
      ]
    },
    {
      "cell_type": "code",
      "metadata": {
        "id": "aRk6UGF6u1WJ",
        "colab_type": "code",
        "outputId": "8370b432-4133-4703-f064-903825a33323",
        "colab": {
          "base_uri": "https://localhost:8080/",
          "height": 34
        }
      },
      "source": [
        "# Example 3 - breaking (to illustrate when it breaks\n",
        "torch.rand(2)\n"
      ],
      "execution_count": 0,
      "outputs": [
        {
          "output_type": "execute_result",
          "data": {
            "text/plain": [
              "tensor([0.0184, 0.8770])"
            ]
          },
          "metadata": {
            "tags": []
          },
          "execution_count": 18
        }
      ]
    },
    {
      "cell_type": "markdown",
      "metadata": {
        "id": "MwV3PaSIu1WL",
        "colab_type": "text"
      },
      "source": [
        "two rows random values print"
      ]
    },
    {
      "cell_type": "markdown",
      "metadata": {
        "id": "Gt7iA9rTu1WM",
        "colab_type": "text"
      },
      "source": [
        "Closing comments about when to use this function"
      ]
    },
    {
      "cell_type": "markdown",
      "metadata": {
        "id": "BIKRFLVku1WM",
        "colab_type": "text"
      },
      "source": [
        "## Conclusion\n",
        "\n",
        "Summarize what was covered in this notebook, and where to go next\n",
        "Functions of torch.tensors and torch will be used."
      ]
    },
    {
      "cell_type": "markdown",
      "metadata": {
        "id": "1DwWY0mWu1WM",
        "colab_type": "text"
      },
      "source": [
        "## Reference Links\n",
        "Provide links to your references and other interesting articles about tensors\n",
        "* Official documentation for `torch.Tensor`: https://pytorch.org/docs/stable/tensors.html\n",
        "* ..."
      ]
    },
    {
      "cell_type": "code",
      "metadata": {
        "id": "YYKU3z9au1WN",
        "colab_type": "code",
        "outputId": "5585861c-804f-4da4-d9f3-228b9d84b2e8",
        "colab": {
          "base_uri": "https://localhost:8080/",
          "height": 50
        }
      },
      "source": [
        "!pip install jovian --upgrade --quiet"
      ],
      "execution_count": 0,
      "outputs": [
        {
          "output_type": "stream",
          "text": [
            "\u001b[?25l\r\u001b[K     |████                            | 10kB 23.2MB/s eta 0:00:01\r\u001b[K     |███████▉                        | 20kB 1.8MB/s eta 0:00:01\r\u001b[K     |███████████▉                    | 30kB 2.4MB/s eta 0:00:01\r\u001b[K     |███████████████▊                | 40kB 2.7MB/s eta 0:00:01\r\u001b[K     |███████████████████▋            | 51kB 2.0MB/s eta 0:00:01\r\u001b[K     |███████████████████████▋        | 61kB 2.3MB/s eta 0:00:01\r\u001b[K     |███████████████████████████▌    | 71kB 2.5MB/s eta 0:00:01\r\u001b[K     |███████████████████████████████▍| 81kB 2.8MB/s eta 0:00:01\r\u001b[K     |████████████████████████████████| 92kB 2.4MB/s \n",
            "\u001b[?25h  Building wheel for uuid (setup.py) ... \u001b[?25l\u001b[?25hdone\n"
          ],
          "name": "stdout"
        }
      ]
    },
    {
      "cell_type": "code",
      "metadata": {
        "id": "eNJXnwAau1WQ",
        "colab_type": "code",
        "colab": {}
      },
      "source": [
        "import jovian"
      ],
      "execution_count": 0,
      "outputs": []
    },
    {
      "cell_type": "code",
      "metadata": {
        "id": "9Ix8Gv7ru1WU",
        "colab_type": "code",
        "outputId": "51ead0d6-d51e-4e05-c527-9d490b12f306",
        "colab": {
          "base_uri": "https://localhost:8080/",
          "height": 34
        }
      },
      "source": [
        "jovian.commit()"
      ],
      "execution_count": 0,
      "outputs": [
        {
          "output_type": "stream",
          "text": [
            "\u001b[31m[jovian] Error: Failed to detect Jupyter notebook or Python script. Skipping..\u001b[0m\n"
          ],
          "name": "stderr"
        }
      ]
    },
    {
      "cell_type": "code",
      "metadata": {
        "id": "sOkuvpGCu1WX",
        "colab_type": "code",
        "colab": {}
      },
      "source": [
        ""
      ],
      "execution_count": 0,
      "outputs": []
    }
  ]
}